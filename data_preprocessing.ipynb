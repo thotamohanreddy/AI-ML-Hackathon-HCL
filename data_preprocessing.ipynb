{
 "cells": [
  {
   "cell_type": "code",
   "execution_count": 3,
   "metadata": {},
   "outputs": [],
   "source": [
    "import pandas as pd\n",
    "import numpy as np"
   ]
  },
  {
   "cell_type": "code",
   "execution_count": 4,
   "metadata": {},
   "outputs": [],
   "source": [
    "# Load the dataset\n",
    "df = pd.read_excel('customer churn data_usecase1.xlsx')"
   ]
  },
  {
   "cell_type": "code",
   "execution_count": 5,
   "metadata": {},
   "outputs": [],
   "source": [
    "# Drop CustomerID column\n",
    "df.drop('customerID', axis=1, inplace=True)"
   ]
  },
  {
   "cell_type": "code",
   "execution_count": 6,
   "metadata": {},
   "outputs": [],
   "source": [
    "# Change Gender to binary values (0/1)\n",
    "df['Gender'] = df['Gender'].map({'Male': 1, 'Female': 0})"
   ]
  },
  {
   "cell_type": "code",
   "execution_count": 7,
   "metadata": {},
   "outputs": [],
   "source": [
    "# Marital Status to binary values (0/1)\n",
    "df['Marital Status'] = df['Marital Status'].map({'Yes': 1, 'No': 0})"
   ]
  },
  {
   "cell_type": "code",
   "execution_count": 8,
   "metadata": {},
   "outputs": [],
   "source": [
    "# Dependents to binary values (0/1)\n",
    "df['Dependents'] = df['Dependents'].map({'Yes': 1, 'No': 0})"
   ]
  },
  {
   "cell_type": "code",
   "execution_count": 9,
   "metadata": {},
   "outputs": [],
   "source": [
    "# Priority Account to binary values (0/1)\n",
    "df['Priority Account'] = df['Priority Account'].map({'Yes': 1, 'No': 0})"
   ]
  },
  {
   "cell_type": "code",
   "execution_count": 10,
   "metadata": {},
   "outputs": [],
   "source": [
    "# Credit Cards to binary values (0/1)\n",
    "df['Credit Cards'] = df['Credit Cards'].map({'Yes': 1, 'No': 0})"
   ]
  },
  {
   "cell_type": "code",
   "execution_count": 11,
   "metadata": {},
   "outputs": [],
   "source": [
    "# Loan Account to categorical values\n",
    "df['Loan Account'] = df['Loan Account'].map({'General Loan': 1, 'Top Up Loan': 2, 'No': 0, np.nan: -1})"
   ]
  },
  {
   "cell_type": "code",
   "execution_count": 12,
   "metadata": {},
   "outputs": [],
   "source": [
    "# Netbanking to binary values (0/1)\n",
    "df['Netbanking'] = df['Netbanking'].map({'Yes': 1, 'No': 0})"
   ]
  },
  {
   "cell_type": "code",
   "execution_count": 13,
   "metadata": {},
   "outputs": [],
   "source": [
    "# Debit Card to binary values (0/1)\n",
    "df['Debit Card'] = df['Debit Card'].map({'Yes': 1, 'No': 0})"
   ]
  },
  {
   "cell_type": "code",
   "execution_count": 14,
   "metadata": {},
   "outputs": [],
   "source": [
    "# MobileApp to binary values (0/1)\n",
    "df['MobileApp'] = df['MobileApp'].map({'Yes': 1, 'No': 0})"
   ]
  },
  {
   "cell_type": "code",
   "execution_count": 15,
   "metadata": {},
   "outputs": [],
   "source": [
    "# TechSupport Availed to binary values (0/1)\n",
    "df['TechSupport Availed'] = df['TechSupport Availed'].map({'Yes': 1, 'No': 0})"
   ]
  },
  {
   "cell_type": "code",
   "execution_count": 16,
   "metadata": {},
   "outputs": [],
   "source": [
    "# Zero Balance Account to binary values (0/1)\n",
    "df['Zero Balance Account'] = df['Zero Balance Account'].map({'Yes': 1, 'No': 0})"
   ]
  },
  {
   "cell_type": "code",
   "execution_count": 17,
   "metadata": {},
   "outputs": [],
   "source": [
    "# FDs to binary values (0/1)\n",
    "df['FDs'] = df['FDs'].map({'Yes': 1, 'No': 0})"
   ]
  },
  {
   "cell_type": "code",
   "execution_count": 18,
   "metadata": {},
   "outputs": [],
   "source": [
    "df['Churn'] = df['Churn'].map({'Yes': 1, 'No': 0})"
   ]
  },
  {
   "cell_type": "code",
   "execution_count": 19,
   "metadata": {},
   "outputs": [],
   "source": [
    "# Interest Deposited to categorical values\n",
    "df['Interest Deposited'] = df['Interest Deposited'].map({'Month-to-month': 2, 'One year': 1, 'Two year': 0, np.nan: -1})"
   ]
  },
  {
   "cell_type": "code",
   "execution_count": 20,
   "metadata": {},
   "outputs": [],
   "source": [
    "df['Category'] = df['Category'].map({'Credit Card': 0, 'Current Account': 1, 'Loans': 2,'Savings Account':3,'Debit Cards':4,'Mobile Banking':5,'Branch Service':6,'Fixed Deposit':7,'ATM Service':8,'General':9,'Debit Card':10,'Credit Cards':11,\"Online Banking\":12, np.nan: -1})\n"
   ]
  },
  {
   "cell_type": "code",
   "execution_count": 21,
   "metadata": {},
   "outputs": [],
   "source": [
    "# Paperless Banking to binary values (0/1)\n",
    "df['Paperless Banking'] = df['Paperless Banking'].map({'Yes': 1, 'No': 0})"
   ]
  },
  {
   "cell_type": "code",
   "execution_count": 22,
   "metadata": {},
   "outputs": [],
   "source": [
    "# Handle missing values in categorical columns with -1\n",
    "categorical_cols = ['Loan Account', 'Interest Deposited']\n",
    "df[categorical_cols] = df[categorical_cols].fillna(-1)"
   ]
  },
  {
   "cell_type": "code",
   "execution_count": 23,
   "metadata": {},
   "outputs": [
    {
     "name": "stdout",
     "output_type": "stream",
     "text": [
      "   Gender  Senior Citizen  Marital Status  Dependents  tenure in months  \\\n",
      "0       1               0               0         1.0               1.0   \n",
      "1       1               0               1         1.0              72.0   \n",
      "2       0               1               0         0.0              20.0   \n",
      "3       0               0               0         0.0              47.0   \n",
      "4       0               0               1         1.0              54.0   \n",
      "\n",
      "   Priority Account  Credit Cards  Loan Account  Netbanking  Debit Card  ...  \\\n",
      "0               1.0           0.0          -1.0         0.0           0  ...   \n",
      "1               0.0           0.0          -1.0         1.0           1  ...   \n",
      "2               1.0           1.0          -1.0         0.0           1  ...   \n",
      "3               1.0           1.0          -1.0         1.0           0  ...   \n",
      "4               1.0           1.0          -1.0         1.0           1  ...   \n",
      "\n",
      "   Zero Balance Account  FDs  Interest Deposited  Paperless Banking  \\\n",
      "0                   0.0  0.0                   2                0.0   \n",
      "1                   1.0  1.0                   0                1.0   \n",
      "2                   0.0  1.0                   2                1.0   \n",
      "3                   0.0  0.0                   0                1.0   \n",
      "4                   1.0  1.0                   2                1.0   \n",
      "\n",
      "   Monthly Average Balance (USD)  Yearly Average Balance (USD)  Churn  \\\n",
      "0                           44.0                            44    0.0   \n",
      "1                           64.8                       4719.75    0.0   \n",
      "2                           94.1                        1782.4    1.0   \n",
      "3                           65.0                        2879.9    0.0   \n",
      "4                          104.1                        5645.8    0.0   \n",
      "\n",
      "                                   Customer Feedback  Category Recommendation  \n",
      "0              My Credit Card is not generating OTP.       0.0            NaN  \n",
      "1          The Current Account charges are too high.       1.0            NaN  \n",
      "2          The loan prepayment charges are too high.       2.0            NaN  \n",
      "3  The Savings Account opening process was very s...       3.0            NaN  \n",
      "4  The loan documentation process is very complic...       2.0            NaN  \n",
      "\n",
      "[5 rows x 22 columns]\n"
     ]
    }
   ],
   "source": [
    "# Print first few rows to verify\n",
    "print(df.head())\n",
    "\n",
    "# Save processed dataset\n",
    "df.to_csv('processed_dataset.csv', index=False)"
   ]
  }
 ],
 "metadata": {
  "kernelspec": {
   "display_name": "hackathon-venv",
   "language": "python",
   "name": "python3"
  },
  "language_info": {
   "codemirror_mode": {
    "name": "ipython",
    "version": 3
   },
   "file_extension": ".py",
   "mimetype": "text/x-python",
   "name": "python",
   "nbconvert_exporter": "python",
   "pygments_lexer": "ipython3",
   "version": "3.11.5"
  }
 },
 "nbformat": 4,
 "nbformat_minor": 2
}
